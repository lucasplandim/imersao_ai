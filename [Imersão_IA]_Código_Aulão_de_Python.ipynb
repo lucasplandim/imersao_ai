{
  "nbformat": 4,
  "nbformat_minor": 0,
  "metadata": {
    "colab": {
      "provenance": [],
      "authorship_tag": "ABX9TyMxpvsllTPrfwEQ7AUiar6b",
      "include_colab_link": true
    },
    "kernelspec": {
      "name": "python3",
      "display_name": "Python 3"
    },
    "language_info": {
      "name": "python"
    }
  },
  "cells": [
    {
      "cell_type": "markdown",
      "metadata": {
        "id": "view-in-github",
        "colab_type": "text"
      },
      "source": [
        "<a href=\"https://colab.research.google.com/github/lucasplandim/imersao_ai/blob/main/%5BImers%C3%A3o_IA%5D_C%C3%B3digo_Aul%C3%A3o_de_Python.ipynb\" target=\"_parent\"><img src=\"https://colab.research.google.com/assets/colab-badge.svg\" alt=\"Open In Colab\"/></a>"
      ]
    },
    {
      "cell_type": "code",
      "source": [
        "print(\"~~~~~~~~~~~~~~~~~~~~~~~~~~~~~~~~~~~~~~~~~~~~~~~~~~~~~~~~~~~~~~~~~~~~~~~~~~~\")\n",
        "print(\"###########################################################################\")\n",
        "print(\"Aulão de Python - Imersão IA Alura + Google\")\n",
        "print(\"Data: 08/05/2024\")\n",
        "print(\"YouTube Alura: https://www.youtube.com/watch?v=j_0HRH7gZtA\")\n",
        "print(\"Instrutores: Fabrício Carraro / Guilherme Lima / Ana Raquel\")\n",
        "print(\"###########################################################################\")\n",
        "print(\"~~~~~~~~~~~~~~~~~~~~~~~~~~~~~~~~~~~~~~~~~~~~~~~~~~~~~~~~~~~~~~~~~~~~~~~~~~~\")\n",
        "print(\"\")\n",
        "\n",
        "print(\"<< Início do código >>\")\n",
        "print(\"\")\n",
        "\n",
        "# import das libraries Python usadas neste código\n",
        "import requests\n",
        "import random\n",
        "\n",
        "# guarda a url da API em uma variável\n",
        "url = \"https://raw.githubusercontent.com/guilhermeonrails/api-imersao-ia/main/words.json\"\n",
        "print(\"Endereço da API: \" + str(url))\n",
        "print(\"\")\n",
        "print(\"----------------------------------------------------------------------------\")\n",
        "\n",
        "# faço a requisição e transformo no formato JSON\n",
        "response = requests.get(url)\n",
        "data = response.json()\n",
        "print(\"Lista completa: \" + str(data))\n",
        "print(\"\")\n",
        "print(\"----------------------------------------------------------------------------\")\n",
        "\n",
        "# verifico o tipo da variável\n",
        "print(\"Tipo da variável: \" + str(type(data)))\n",
        "print(\"\")\n",
        "\n",
        "# traz a primeira e última linha da lista\n",
        "# toda lista em Python começa com o índice 0 (zero)\n",
        "# para pegar do último para trás usamos o índice -1, -2... e assim por diante\n",
        "fst_line = data[0]\n",
        "print(\"Primeira linha: \" + str(fst_line))\n",
        "lst_line = data[-1]\n",
        "print(\"Última linha: \" + str(lst_line))\n",
        "\n",
        "# traz uma linha aleatória\n",
        "random = random.choice(data)\n",
        "print(\"Linha aleatória: \" + str(random))\n",
        "print(\"\")\n",
        "print(\"----------------------------------------------------------------------------\")\n",
        "\n",
        "# traz só uma das informações, ao invés de toda linha\n",
        "palavra_aleatoria = random[\"palavra\"]\n",
        "print(\"Palavra aleatória: \" + str(palavra_aleatoria))\n",
        "print(\"\")\n",
        "dica_aleatoria = random[\"dica\"]\n",
        "print(\"Dica aleatória: \" + str(dica_aleatoria))\n",
        "print(\"\")\n",
        "print(\"----------------------------------------------------------------------------\")\n",
        "# o \"f\" é capaz de juntar palavras e variáveis\n",
        "# semelhante ao \"+\" que usamos para concatenar\n",
        "print(f\"A palavra aleatória tem {len(palavra_aleatoria)} letras -> E a dica é: {dica_aleatoria}\")\n",
        "print(\"\")\n",
        "\n",
        "# recebe o palpite/chute do que pode ser a palavra aleatória\n",
        "palpite = input(\"Digite a palavra aleatória: \")\n",
        "print(\"\")\n",
        "if (palpite == palavra_aleatoria):\n",
        "  print(\"Acertou!\")\n",
        "else:\n",
        "  print(\"Errou!\")\n",
        "  print(\"A palavra era: \" + palavra_aleatoria)\n",
        "print(\"\")\n",
        "print(\"----------------------------------------------------------------------------\")\n",
        "\n",
        "print(\"<< Fim do código >>\")\n",
        "print(\"\")"
      ],
      "metadata": {
        "id": "795ZBx-SfoPm"
      },
      "execution_count": null,
      "outputs": []
    }
  ]
}