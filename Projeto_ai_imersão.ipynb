{
  "nbformat": 4,
  "nbformat_minor": 0,
  "metadata": {
    "colab": {
      "provenance": [],
      "authorship_tag": "ABX9TyOAVMl6fEtPB+fxTA0oQ2z4",
      "include_colab_link": true
    },
    "kernelspec": {
      "name": "python3",
      "display_name": "Python 3"
    },
    "language_info": {
      "name": "python"
    }
  },
  "cells": [
    {
      "cell_type": "markdown",
      "metadata": {
        "id": "view-in-github",
        "colab_type": "text"
      },
      "source": [
        "<a href=\"https://colab.research.google.com/github/lucasplandim/imersao_ai/blob/main/Projeto_ai_imers%C3%A3o.ipynb\" target=\"_parent\"><img src=\"https://colab.research.google.com/assets/colab-badge.svg\" alt=\"Open In Colab\"/></a>"
      ]
    },
    {
      "cell_type": "markdown",
      "source": [
        "Este projeto visa auxiliar as pessoas em suas apostas esportivas. Elas irão informar o confronto desejado e o modelo irá trazer detalhes e estatísticas deste confronto. Além disso, o usuário poderá ter mais detalhes do confronto em questão como, por exemplo, saber quem é o maior goleador de cada time, qual o retrospecto do time jogando em casa, assim por diante."
      ],
      "metadata": {
        "id": "ZbXjuWlJMbWO"
      }
    },
    {
      "cell_type": "markdown",
      "source": [
        "Instalando o SDK do Google"
      ],
      "metadata": {
        "id": "UzHXpK9on5E0"
      }
    },
    {
      "cell_type": "code",
      "execution_count": null,
      "metadata": {
        "id": "u8R48BEOnUdM"
      },
      "outputs": [],
      "source": [
        "!pip install -q -U google-generativeai"
      ]
    },
    {
      "cell_type": "markdown",
      "source": [
        "Importando a library do Google Generative AI"
      ],
      "metadata": {
        "id": "VVyFrHnOoHXD"
      }
    },
    {
      "cell_type": "code",
      "source": [
        "import google.generativeai as genai"
      ],
      "metadata": {
        "id": "QvgNKkjyoRRO"
      },
      "execution_count": null,
      "outputs": []
    },
    {
      "cell_type": "markdown",
      "source": [
        "Configurando a API Key para conseguirmos acessar as APIs do Gemini\n",
        "\n",
        "*Crie a sua API Key através deste link [Google AI Studio > API Key](https://aistudio.google.com/app/apikey/?utm_source=website&utm_medium=referral&utm_campaign=Alura&utm_content=)*"
      ],
      "metadata": {
        "id": "iTnPZJ-EoVxz"
      }
    },
    {
      "cell_type": "code",
      "source": [
        "from google.colab import userdata\n",
        "api_key = userdata.get('api_key')\n",
        "\n",
        "genai.configure(api_key=api_key)"
      ],
      "metadata": {
        "id": "RYRu9334ocjn"
      },
      "execution_count": null,
      "outputs": []
    },
    {
      "cell_type": "markdown",
      "source": [
        "Setando as configurações do modelo e inicializando-o"
      ],
      "metadata": {
        "id": "YyjkYD-4skXw"
      }
    },
    {
      "cell_type": "code",
      "source": [
        "generation_config = {\n",
        "  \"candidate_count\": 1,\n",
        "  \"temperature\": 0.5\n",
        "}\n",
        "\n",
        "safety_settings = {\n",
        "    'HATE': 'BLOCK_NONE',\n",
        "    'HARASSMENT': 'BLOCK_NONE',\n",
        "    'SEXUAL' : 'BLOCK_NONE',\n",
        "    'DANGEROUS' : 'BLOCK_NONE'\n",
        "}\n",
        "\n",
        "system_instruction = {\"\"\"Você é um assistente virtual que irá auxiliar as pessoas em suas apostas esportivas.\n",
        "A pessoa irá informar o confronto desejado e você terá que trazer vários detalhes e estatísticas deste confronto.\n",
        "É importante dizer qual o retrospecto de um time com o outro. Quantas vitórias, derrotas e empates.\n",
        "Além disso, se atente ao ano que estamos no momento e traga as informações mais recentes.\n",
        "Ao final da primeira análise você deve sugerir um palpite para o placar do jogo.\"\"\"}\n",
        "\n",
        "model = genai.GenerativeModel(model_name='gemini-1.5-pro-latest',\n",
        "                              generation_config=generation_config,\n",
        "                              safety_settings=safety_settings,\n",
        "                              system_instruction = system_instruction)"
      ],
      "metadata": {
        "id": "CMH2QUN1stpu"
      },
      "execution_count": null,
      "outputs": []
    },
    {
      "cell_type": "markdown",
      "source": [
        "Inciando o chat"
      ],
      "metadata": {
        "id": "5XbPlIpUxltu"
      }
    },
    {
      "cell_type": "code",
      "source": [
        "chat = model.start_chat(history=[])\n",
        "\n",
        "# Pega a entrada do usuário\n",
        "print('Qual jogo você deseja saber os detalhes/estatísticas para te auxiliar nas suas apostas?')\n",
        "print('Coloque sua resposta no padrão >> Time1 x Time2')\n",
        "print('(Ou digite \"fim\" para encerrar o chat)')\n",
        "prompt = input()\n",
        "\n",
        "# Função usada para validar a entrada\n",
        "def validar_entrada():\n",
        "\n",
        "  if prompt.strip() == \"\":\n",
        "    raise ValueError(\"Nada foi passado na entrada.\")\n",
        "\n",
        "  while True:\n",
        "    times = prompt.split(\" x \")\n",
        "    if len(times) != 2:\n",
        "        raise ValueError(\"Formato inválido. Digite >> Time1 x Time2\")\n",
        "    return times\n",
        "\n",
        "# Função principal\n",
        "def main():\n",
        "    global prompt\n",
        "    count = 0\n",
        "\n",
        "    while prompt != \"fim\":\n",
        "        try:\n",
        "            # Validação de entrada apenas na primeira interação\n",
        "            if count == 0:\n",
        "                times = validar_entrada()\n",
        "\n",
        "            # Envio da mensagem e tratamento da resposta\n",
        "            response = chat.send_message(prompt)\n",
        "            exibir_detalhes(response)\n",
        "\n",
        "            # Prompt para continuar ou finalizar\n",
        "            print(\"Deseja saber mais algum detalhe deste confronto?\\nCaso não precise de mais nenhuma informação, digite 'fim' para encerrar o chat: \")\n",
        "            prompt = input()\n",
        "            count += 1\n",
        "\n",
        "        except ValueError as e:\n",
        "            print(f\"Erro: {e}\")\n",
        "            print(\"Tente novamente ou digite 'fim' para encerrar.\")\n",
        "            prompt = input()\n",
        "\n",
        "def exibir_detalhes(response):\n",
        "    print('Detalhes do confronto:')\n",
        "    print(response.text, '\\n\\n')\n",
        "\n",
        "if __name__ == \"__main__\":\n",
        "    main()\n",
        "\n",
        "print(\"Obrigado por usar o chat! Volte sempre.\")"
      ],
      "metadata": {
        "id": "4_uJM-ClhvKu"
      },
      "execution_count": null,
      "outputs": []
    },
    {
      "cell_type": "markdown",
      "source": [
        "Melhorando a visualização"
      ],
      "metadata": {
        "id": "loYavTMpwNak"
      }
    },
    {
      "cell_type": "code",
      "source": [
        "import textwrap\n",
        "from IPython.display import display\n",
        "from IPython.display import Markdown\n",
        "\n",
        "def to_markdown(text):\n",
        "  text = text.replace('•', '  *')\n",
        "  return Markdown(textwrap.indent(text, '> ', predicate=lambda _: True))\n",
        "\n",
        "#Imprimindo o histórico\n",
        "for message in chat.history:\n",
        "  display(to_markdown(f'**{message.role}**: {message.parts[0].text}'))\n",
        "  print('-------------------------------------------')"
      ],
      "metadata": {
        "id": "7y_inPW_vfSw"
      },
      "execution_count": null,
      "outputs": []
    }
  ]
}